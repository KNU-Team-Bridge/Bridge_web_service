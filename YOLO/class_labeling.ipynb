{
 "cells": [
  {
   "cell_type": "markdown",
   "metadata": {},
   "source": [
    "### 라벨링 class 재정렬"
   ]
  },
  {
   "cell_type": "markdown",
   "metadata": {},
   "source": [
    "- ** class\n",
    "- end 0\n",
    "- face 1\n",
    "- meet 2\n",
    "- stop_1 3\n",
    "- stop_2 4 \n",
    "- testing_1 5\n",
    "- testing_2 6\n",
    "- twelve 7\n",
    "- deaf_1 8\n",
    "- deaf_2 9\n",
    "- deaf_3 10\n",
    "- make 11\n",
    "- bridge 12\n",
    "- non-deaf_1 13\n",
    "- non-deaf_2 14\n",
    "- we_1 15\n",
    "- we_2 16\n",
    "- team 17\n",
    "- now 18\n",
    "- good 19\n",
    "- this 20\n",
    "- hello_1 21\n",
    "- hello_2 22\n",
    "- service 23\n",
    "- become_1 24\n",
    "- become_2 25\n",
    "- highly 26\n",
    "- likely_1 27\n",
    "- likely_2 28"
   ]
  },
  {
   "cell_type": "markdown",
   "metadata": {},
   "source": [
    "#### 성현"
   ]
  },
  {
   "cell_type": "code",
   "execution_count": 27,
   "metadata": {},
   "outputs": [
    {
     "name": "stdout",
     "output_type": "stream",
     "text": [
      "end\n",
      "face\n",
      "meet\n",
      "stop_1\n",
      "stop_2\n",
      "testing_1\n",
      "testing_2\n"
     ]
    },
    {
     "data": {
      "text/plain": [
       "{'end': 0,\n",
       " 'face': 1,\n",
       " 'meet': 2,\n",
       " 'stop_1': 3,\n",
       " 'stop_2': 4,\n",
       " 'testing_1': 5,\n",
       " 'testing_2': 6}"
      ]
     },
     "execution_count": 27,
     "metadata": {},
     "output_type": "execute_result"
    }
   ],
   "source": [
    "# 클래스 번호 지정\n",
    "class1 = ['end', \"face\", 'meet', 'stop_1', 'stop_2', 'testing_1', 'testing_2']\n",
    "class_num = {name : idx for idx, name in enumerate(class1)}\n",
    "\n",
    "for c_name in class_num.keys():\n",
    "    print(c_name)\n",
    "class_num\n"
   ]
  },
  {
   "cell_type": "code",
   "execution_count": 3,
   "metadata": {},
   "outputs": [],
   "source": [
    "# testing -> 1씩 감소\n",
    "import os\n",
    "\n",
    "# 작업할 디렉토리 설정\n",
    "directory = 'C:/Users/wshkk/Desktop/YOLO/source/source_sh'  \n",
    "\n",
    "# 디렉토리 내의 파일 목록 가져오기\n",
    "files = os.listdir(directory)\n",
    "\n",
    "# 파일명이 'testing'으로 시작하고 확장자가 '.txt'인 파일들만 선택\n",
    "target_files = [f for f in files if f.startswith('testing') and f.endswith('.txt')]\n",
    "\n",
    "for filename in target_files:\n",
    "    with open(os.path.join(directory, filename), 'r') as file:\n",
    "        lines = file.readlines()\n",
    "\n",
    "    modified_lines = []\n",
    "    for line in lines:\n",
    "        parts = line.strip().split()\n",
    "        if parts and parts[0] == '7':\n",
    "            parts[0] = '6'\n",
    "        elif parts and parts[0] == '6':\n",
    "            parts[0] = '5'\n",
    "        modified_line = ' '.join(parts) + '\\n'\n",
    "        modified_lines.append(modified_line)\n",
    "\n",
    "    with open(os.path.join(directory, filename), 'w') as file:\n",
    "        file.writelines(modified_lines)"
   ]
  },
  {
   "cell_type": "markdown",
   "metadata": {},
   "source": [
    "#### 소정"
   ]
  },
  {
   "cell_type": "code",
   "execution_count": 1,
   "metadata": {},
   "outputs": [
    {
     "name": "stdout",
     "output_type": "stream",
     "text": [
      "['12', '12_2', '농아인', '농아인_2', '농아인_3', '만들다', '만들다_2', '브릿지', '브릿지_2', '일반인', '일반인_2', '저희', '팀']\n"
     ]
    }
   ],
   "source": [
    "# 해당 디렉토리를 방문해 entry name 모두 가져오기\n",
    "import os\n",
    "\n",
    "def get_directory_entries(directory_path):\n",
    "    entries = os.listdir(directory_path)\n",
    "    return entries\n",
    "\n",
    "# 사용 예시\n",
    "directory_path = 'C:/Users/wshkk/Desktop/데이터라벨링_소정/데이터라벨링_소정'\n",
    "entries = get_directory_entries(directory_path)\n",
    "print(entries)"
   ]
  },
  {
   "cell_type": "code",
   "execution_count": 11,
   "metadata": {},
   "outputs": [],
   "source": [
    "# 작업할 디렉토리 설정\n",
    "directory = 'C:/Users/wshkk/Desktop/데이터라벨링_소정/데이터라벨링_소정'  \n",
    "sojeong = ['12', '12_2', '농아인', '농아인_2', '농아인_3', '만들다', '만들다_2', '브릿지', '브릿지_2', '일반인', '일반인_2', '저희', '팀']\n",
    "idx = 7\n",
    "for classname in sojeong:        \n",
    "    temp_dir=directory+'/'+classname\n",
    "    # 디렉토리 내의 파일 목록 가져오기\n",
    "    files = os.listdir(temp_dir)\n",
    "\n",
    "    # 확장자가 '.txt'인 파일들만 선택\n",
    "    target_files = [f for f in files if f.endswith('.txt')]\n",
    "    for filename in target_files:\n",
    "        with open(os.path.join(temp_dir, filename), 'r') as file:\n",
    "            lines = file.readlines()\n",
    "\n",
    "        modified_lines = []\n",
    "        for line in lines:\n",
    "            parts = line.strip().split()\n",
    "            parts[0] = str(idx)\n",
    "            \n",
    "            modified_line = ' '.join(parts) + '\\n'\n",
    "            modified_lines.append(modified_line)\n",
    "\n",
    "        with open(os.path.join(temp_dir, filename), 'w') as file:\n",
    "            file.writelines(modified_lines)\n",
    "    idx+=1"
   ]
  },
  {
   "cell_type": "markdown",
   "metadata": {},
   "source": [
    "twelve 7\n",
    "deaf_1 8\n",
    "deaf_2 9\n",
    "deaf_3 10\n",
    "make 11\n",
    "bridge 12\n",
    "non-deaf_1 13\n",
    "non-deaf_2 14\n",
    "we_1 15\n",
    "we_2 16\n",
    "team 17"
   ]
  },
  {
   "cell_type": "code",
   "execution_count": 41,
   "metadata": {},
   "outputs": [],
   "source": [
    "# 디렉토리 내의 파일 목록 가져오기# testing -> 1씩 감소\n",
    "import os\n",
    "\n",
    "# 작업할 디렉토리 설정\n",
    "directory = 'C:/Users/wshkk/Desktop/데이터라벨링_소정/데이터라벨링_소정/팀'  \n",
    "\n",
    "# 디렉토리 내의 파일 목록 가져오기\n",
    "files = os.listdir(directory)\n",
    "\n",
    "# 파일명이 'testing'으로 시작하고 확장자가 '.txt'인 파일들만 선택\n",
    "target_files = [f for f in files if f.endswith('.txt')]\n",
    "\n",
    "for filename in target_files:\n",
    "    with open(os.path.join(directory, filename), 'r') as file:\n",
    "        lines = file.readlines()\n",
    "\n",
    "    modified_lines = []\n",
    "    for line in lines:\n",
    "        parts = line.strip().split()\n",
    "        if parts and parts[0] == '10':\n",
    "            parts[0] = '17'\n",
    "        elif parts and parts[0] == '9':\n",
    "            parts[0] = '16'\n",
    "        # elif parts and parts[0] == '18':\n",
    "        #     parts[0] = '10'\n",
    "        modified_line = ' '.join(parts) + '\\n'\n",
    "        modified_lines.append(modified_line)\n",
    "\n",
    "    with open(os.path.join(directory, filename), 'w') as file:\n",
    "        file.writelines(modified_lines)\n",
    "files = os.listdir(directory)"
   ]
  },
  {
   "cell_type": "markdown",
   "metadata": {},
   "source": [
    "#### 정민"
   ]
  },
  {
   "cell_type": "markdown",
   "metadata": {},
   "source": [
    "now 18\n",
    "good 19\n",
    "this 20\n",
    "hello_1 21\n",
    "hello_2 22\n",
    "service 23\n",
    "become_1 24\n",
    "become_2 25\n",
    "highly 26\n",
    "likely_1 27\n",
    "likely_2 28"
   ]
  },
  {
   "cell_type": "code",
   "execution_count": 42,
   "metadata": {},
   "outputs": [
    {
     "name": "stdout",
     "output_type": "stream",
     "text": [
      "['것같다', '너무', '되면', '서비스', '시연', '이것', '좋다', '지금']\n"
     ]
    }
   ],
   "source": [
    "# 해당 디렉토리를 방문해 entry name 모두 가져오기\n",
    "import os\n",
    "\n",
    "def get_directory_entries(directory_path):\n",
    "    entries = os.listdir(directory_path)\n",
    "    return entries\n",
    "\n",
    "# 사용 예시\n",
    "directory_path = 'C:/Users/wshkk/Desktop/정민_라벨링'\n",
    "entries = get_directory_entries(directory_path)\n",
    "print(entries)"
   ]
  },
  {
   "cell_type": "code",
   "execution_count": 50,
   "metadata": {},
   "outputs": [],
   "source": [
    "# 작업할 디렉토리 설정\n",
    "directory = 'C:/Users/wshkk/Desktop/정민_라벨링'  \n",
    "jeongmin = ['것같다', '너무', '되면', '서비스', '시연', '이것', '좋다', '지금']\n",
    "\n",
    "for classname in jeongmin:        \n",
    "    temp_dir=directory+'/'+classname\n",
    "    # 디렉토리 내의 파일 목록 가져오기\n",
    "    files = os.listdir(temp_dir)\n",
    "\n",
    "    # 확장자가 '.txt'인 파일들만 선택\n",
    "    target_files = [f for f in files if not f.startswith('classes') and f.endswith('.txt')]\n",
    "    for filename in target_files:\n",
    "        with open(os.path.join(temp_dir, filename), 'r') as file:\n",
    "            lines = file.readlines()\n",
    "\n",
    "        modified_lines = []\n",
    "        for line in lines:\n",
    "            parts = line.strip().split()\n",
    "            parts[0] = str(int(parts[0])+2)\n",
    "            \n",
    "            modified_line = ' '.join(parts) + '\\n'\n",
    "            modified_lines.append(modified_line)\n",
    "\n",
    "        with open(os.path.join(temp_dir, filename), 'w') as file:\n",
    "            file.writelines(modified_lines)"
   ]
  }
 ],
 "metadata": {
  "kernelspec": {
   "display_name": "Python 3",
   "language": "python",
   "name": "python3"
  },
  "language_info": {
   "codemirror_mode": {
    "name": "ipython",
    "version": 3
   },
   "file_extension": ".py",
   "mimetype": "text/x-python",
   "name": "python",
   "nbconvert_exporter": "python",
   "pygments_lexer": "ipython3",
   "version": "3.10.12"
  }
 },
 "nbformat": 4,
 "nbformat_minor": 2
}
