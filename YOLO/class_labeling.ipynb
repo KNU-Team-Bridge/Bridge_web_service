{
 "cells": [
  {
   "cell_type": "markdown",
   "metadata": {},
   "source": [
    "### 라벨링 class 재정렬"
   ]
  },
  {
   "cell_type": "code",
   "execution_count": 1,
   "metadata": {},
   "outputs": [
    {
     "data": {
      "text/plain": [
       "{'end': 0,\n",
       " 'face': 1,\n",
       " 'meet': 2,\n",
       " 'stop_1': 3,\n",
       " 'stop_2': 4,\n",
       " 'testing_1': 5,\n",
       " 'testing_2': 6}"
      ]
     },
     "execution_count": 1,
     "metadata": {},
     "output_type": "execute_result"
    }
   ],
   "source": [
    "# 클래스 번호 지정\n",
    "class1 = ['end', \"face\", 'meet', 'stop_1', 'stop_2', 'testing_1', 'testing_2']\n",
    "class_num = {name : idx for idx, name in enumerate(class1)}\n",
    "class_num"
   ]
  },
  {
   "cell_type": "markdown",
   "metadata": {},
   "source": [
    "#### label class txt 파일 수정"
   ]
  },
  {
   "cell_type": "code",
   "execution_count": 3,
   "metadata": {},
   "outputs": [],
   "source": [
    "# testing -> 1씩 감소\n",
    "import os\n",
    "\n",
    "# 작업할 디렉토리 설정\n",
    "directory = 'C:/Users/wshkk/Desktop/YOLO/source/source_sh'  \n",
    "\n",
    "# 디렉토리 내의 파일 목록 가져오기\n",
    "files = os.listdir(directory)\n",
    "\n",
    "# 파일명이 'testing'으로 시작하고 확장자가 '.txt'인 파일들만 선택\n",
    "target_files = [f for f in files if f.startswith('testing') and f.endswith('.txt')]\n",
    "\n",
    "for filename in target_files:\n",
    "    with open(os.path.join(directory, filename), 'r') as file:\n",
    "        lines = file.readlines()\n",
    "\n",
    "    modified_lines = []\n",
    "    for line in lines:\n",
    "        parts = line.strip().split()\n",
    "        if parts and parts[0] == '7':\n",
    "            parts[0] = '6'\n",
    "        elif parts and parts[0] == '6':\n",
    "            parts[0] = '5'\n",
    "        modified_line = ' '.join(parts) + '\\n'\n",
    "        modified_lines.append(modified_line)\n",
    "\n",
    "    with open(os.path.join(directory, filename), 'w') as file:\n",
    "        file.writelines(modified_lines)"
   ]
  }
 ],
 "metadata": {
  "kernelspec": {
   "display_name": "Python 3",
   "language": "python",
   "name": "python3"
  },
  "language_info": {
   "codemirror_mode": {
    "name": "ipython",
    "version": 3
   },
   "file_extension": ".py",
   "mimetype": "text/x-python",
   "name": "python",
   "nbconvert_exporter": "python",
   "pygments_lexer": "ipython3",
   "version": "3.10.6"
  }
 },
 "nbformat": 4,
 "nbformat_minor": 2
}
